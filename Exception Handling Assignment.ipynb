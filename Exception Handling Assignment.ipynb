{
 "cells": [
  {
   "cell_type": "code",
   "execution_count": 12,
   "metadata": {},
   "outputs": [
    {
     "name": "stdout",
     "output_type": "stream",
     "text": [
      "There is a exception in function :  division by zero\n"
     ]
    }
   ],
   "source": [
    "#Q1. Compute 5/0\n",
    "\n",
    "try:\n",
    "    def MyCompute():        \n",
    "            a=5/0\n",
    "            return a\n",
    "    print(MyCompute())               \n",
    "except Exception as e:\n",
    "    print(\"There is an exception in function: \",e)"
   ]
  },
  {
   "cell_type": "code",
   "execution_count": 37,
   "metadata": {},
   "outputs": [
    {
     "name": "stdout",
     "output_type": "stream",
     "text": [
      "Americans play Baseball\n",
      "Americans play Cricket\n",
      "Americans watch Baseball\n",
      "Americans watch Cricket\n",
      "Indians play Baseball\n",
      "Indians play Cricket\n",
      "Indians watch Baseball\n",
      "Indians watch Cricket\n"
     ]
    }
   ],
   "source": [
    "#Q2.\n",
    "\n",
    "try:\n",
    "    \n",
    "    subjects=[\"Americans\",\"Indians\"]\n",
    "    verbs=[\"play\",\"watch\"]\n",
    "    objects=[\"Baseball\",\"Cricket\"]\n",
    "    \n",
    "    for i in range(0,len(subjects)):\n",
    "        for j in range(0,len(verbs)):\n",
    "            for k in range(0,len(objects)):\n",
    "                print(subjects[i] + \" \" + verbs[j] + \" \" + objects[k])\n",
    "    \n",
    "except Exception as e:\n",
    "    print(\"There is an exception in function: \",e)"
   ]
  },
  {
   "cell_type": "code",
   "execution_count": null,
   "metadata": {},
   "outputs": [],
   "source": []
  }
 ],
 "metadata": {
  "kernelspec": {
   "display_name": "Python 3",
   "language": "python",
   "name": "python3"
  },
  "language_info": {
   "codemirror_mode": {
    "name": "ipython",
    "version": 3
   },
   "file_extension": ".py",
   "mimetype": "text/x-python",
   "name": "python",
   "nbconvert_exporter": "python",
   "pygments_lexer": "ipython3",
   "version": "3.7.6"
  }
 },
 "nbformat": 4,
 "nbformat_minor": 4
}
