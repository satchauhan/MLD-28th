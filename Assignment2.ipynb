{
 "cells": [
  {
   "cell_type": "code",
   "execution_count": null,
   "metadata": {},
   "outputs": [],
   "source": [
    "# Assisnment 2\n",
    "\n",
    "Task1"
   ]
  },
  {
   "cell_type": "code",
   "execution_count": 7,
   "metadata": {},
   "outputs": [
    {
     "name": "stdout",
     "output_type": "stream",
     "text": [
      "multipilication of all item in l: 24\n"
     ]
    }
   ],
   "source": [
    "# Q1-1.1 MyReduce\n",
    "\n",
    "try:\n",
    "    def myreduce(func1, my_seq):\n",
    "        i=my_seq[0]\n",
    "        for item in my_seq[1:]:\n",
    "            i=func1(i,item)\n",
    "        return i\n",
    "\n",
    "    l=[1,2,3,4]\n",
    "    def mul(x,y):\n",
    "        return x*y\n",
    "\n",
    "    print(\"multipilication of all item in l: \" + str(myreduce(mul,l)))\n",
    "except Exception as e:\n",
    "    \n",
    "    print(\"Error is: \",e)\n",
    "    "
   ]
  },
  {
   "cell_type": "code",
   "execution_count": 8,
   "metadata": {},
   "outputs": [
    {
     "name": "stdout",
     "output_type": "stream",
     "text": [
      "[4, 6, 7, 5, 8]\n"
     ]
    }
   ],
   "source": [
    "#Q1-1.2 Filter function\n",
    "\n",
    "try:\n",
    "    \n",
    "    iFiltered=[]\n",
    "    def myFilter(func1,my_seq):\n",
    "        for item in my_seq:\n",
    "            if func1(item):\n",
    "                iFiltered.append(item)        \n",
    "        return iFiltered\n",
    "\n",
    "    # example Filter the array, and return a new array with only the values equal to or above 4\n",
    "\n",
    "    ages=[1,2,4,6,7,5,3,8]\n",
    "\n",
    "    def listfilter(x):\n",
    "        if x < 4:\n",
    "            return False\n",
    "        else:\n",
    "            return True\n",
    "\n",
    "    result= myFilter(listfilter,ages)\n",
    "\n",
    "    print(result)\n",
    "except Exception as e:\n",
    "    print(\"Error is \",e)\n",
    "    "
   ]
  },
  {
   "cell_type": "code",
   "execution_count": 9,
   "metadata": {},
   "outputs": [
    {
     "name": "stdout",
     "output_type": "stream",
     "text": [
      "['x', 'y', 'z', 'xx', 'yy', 'zz', 'xxx', 'yyy', 'zzz', 'xxxx', 'yyyy', 'zzzz']\n"
     ]
    }
   ],
   "source": [
    "# Q2 List comprehensions\n",
    "try:\n",
    "    \n",
    "    l=['x','y','z']\n",
    "    r=[item*i for i in range (1,5) for item in l]\n",
    "    print(r)\n",
    "except Exception as e:\n",
    "    print(\"Error is \",e)"
   ]
  },
  {
   "cell_type": "code",
   "execution_count": 5,
   "metadata": {},
   "outputs": [
    {
     "name": "stdout",
     "output_type": "stream",
     "text": [
      "['x', 'xx', 'xxx', 'xxxx', 'y', 'yy', 'yyy', 'yyyy', 'z', 'zz', 'zzz', 'zzzz']\n"
     ]
    }
   ],
   "source": [
    "try:\n",
    "    l=['x','y','z']\n",
    "    r=[item*i for item in l for i in range (1,5)]\n",
    "    print(r)\n",
    "except Exception as e:\n",
    "    print(\"Error is \",e)"
   ]
  },
  {
   "cell_type": "code",
   "execution_count": 10,
   "metadata": {},
   "outputs": [
    {
     "name": "stdout",
     "output_type": "stream",
     "text": [
      "[[2], [3], [4], [3], [4], [5], [4], [5], [6]]\n"
     ]
    }
   ],
   "source": [
    "try:\n",
    "    l=[2,3,4]\n",
    "    r=[[item+i] for item in l for i in range (0,3)]\n",
    "    print(r)\n",
    "except Exception as e:\n",
    "    print(\"Error is \",e)"
   ]
  },
  {
   "cell_type": "code",
   "execution_count": 11,
   "metadata": {},
   "outputs": [
    {
     "name": "stdout",
     "output_type": "stream",
     "text": [
      "[[2, 3, 4, 5], [3, 4, 5, 6], [4, 5, 6, 7], [5, 6, 7, 8]]\n"
     ]
    }
   ],
   "source": [
    "try:\n",
    "    l=[2,3,4,5]\n",
    "    r=[[item+i for item in l] for i in range (0,4)]\n",
    "    print(r)\n",
    "except Exception as e:\n",
    "    print(\"Error is \",e)"
   ]
  },
  {
   "cell_type": "code",
   "execution_count": 12,
   "metadata": {},
   "outputs": [
    {
     "name": "stdout",
     "output_type": "stream",
     "text": [
      "[(1, 1), (2, 1), (3, 1), (1, 2), (2, 2), (3, 2), (1, 3), (2, 3), (3, 3)]\n"
     ]
    }
   ],
   "source": [
    "try:\n",
    "    l=[1,2,3]\n",
    "    r=[(item,i) for i in range (1,4) for item in l]\n",
    "    print(r)\n",
    "except Exception as e:\n",
    "    print(\"Error is \",e)"
   ]
  },
  {
   "cell_type": "code",
   "execution_count": 15,
   "metadata": {},
   "outputs": [
    {
     "name": "stdout",
     "output_type": "stream",
     "text": [
      "satyendra kumar\n"
     ]
    }
   ],
   "source": [
    "# Q3 Find Longest Word\n",
    "try:\n",
    "    def longestword(l):\n",
    "        r=[(len(w),w) for w in l]\n",
    "        r.sort()\n",
    "        return r[-1][1]\n",
    "\n",
    "    l=['Satyendra','chauhan','satyendra kumar']\n",
    "    print(longestword(l))\n",
    "except Exception as e:\n",
    "    print(\"Error is \",e)"
   ]
  },
  {
   "cell_type": "code",
   "execution_count": 22,
   "metadata": {},
   "outputs": [
    {
     "name": "stdout",
     "output_type": "stream",
     "text": [
      "Enter length of first side : 2\n",
      "Enter length of second side : 3\n",
      "Enter length of third side : 4\n",
      "The area of the triangle is 2.90\n"
     ]
    }
   ],
   "source": [
    "# Task 2\n",
    "#Q 1.1\n",
    "\n",
    "class Triangle:\n",
    "    def __init__(self,a,b,c):\n",
    "        self.a=float(a)\n",
    "        self.b=float(b)\n",
    "        self.c=float(c)\n",
    "class calArea(Triangle):\n",
    "    \n",
    "    def area(self):\n",
    "        s=(self.a+self.b+self.c)/2\n",
    "        a=(s*(s-self.a)*(s-self.b)*(s-self.c))**0.5\n",
    "        print('The area of the triangle is %0.2f' % a)\n",
    "        \n",
    "side1 = input(\"Enter length of first side : \")\n",
    "side2 = input(\"Enter length of second side : \")\n",
    "side3 = input(\"Enter length of third side : \")\n",
    "x=calArea(side1,side2,side3)\n",
    "x.area()"
   ]
  },
  {
   "cell_type": "code",
   "execution_count": 9,
   "metadata": {},
   "outputs": [
    {
     "name": "stdout",
     "output_type": "stream",
     "text": [
      "['Satyendra', 'Chauhan']\n"
     ]
    }
   ],
   "source": [
    "# Task 2 Q1.2 \n",
    "\n",
    "try:\n",
    "    l=[\"Satyendra\",\"Chauhan\",\"Kumar\",\"Agra\",\"Delhi\"]\n",
    "    n=6\n",
    "    iFiltered=[]\n",
    "    def filter_long_words(l):\n",
    "        for item in l:\n",
    "            if len(item) > n:\n",
    "                iFiltered.append(item)        \n",
    "        return iFiltered    \n",
    "\n",
    "    result= filter_long_words(l)\n",
    "\n",
    "    print(result)\n",
    "except Exception as e:\n",
    "    print(\"Error is \",e)"
   ]
  },
  {
   "cell_type": "code",
   "execution_count": 13,
   "metadata": {},
   "outputs": [
    {
     "name": "stdout",
     "output_type": "stream",
     "text": [
      "[9, 5, 7]\n"
     ]
    }
   ],
   "source": [
    "# Task 2 Q2.1\n",
    "\n",
    "try:\n",
    "    \n",
    "    l=[\"satyendra\",\"kumar\",\"chauhan\"]\n",
    "\n",
    "    def Len_word(l):\n",
    "        r=[len(w) for w in l]\n",
    "        return r\n",
    "\n",
    "    print(Len_word(l))\n",
    "except Exception as e:\n",
    "    print(\"Error is \",e)    \n"
   ]
  },
  {
   "cell_type": "code",
   "execution_count": 17,
   "metadata": {},
   "outputs": [
    {
     "name": "stdout",
     "output_type": "stream",
     "text": [
      "Pleaser enter a letter: A\n",
      "True\n"
     ]
    }
   ],
   "source": [
    "# Task 2 Q2.2\n",
    "\n",
    "try:    \n",
    "    \n",
    "    def IsVowel():\n",
    "        c=input(\"Pleaser enter a letter: \")\n",
    "        Vowel=[\"a\",\"e\",\"i\",\"o\",\"u\"]\n",
    "        r=c.lower() in Vowel\n",
    "        return r\n",
    "\n",
    "    print(IsVowel())\n",
    "except Exception as e:\n",
    "    print(\"Error is \",e) "
   ]
  },
  {
   "cell_type": "code",
   "execution_count": null,
   "metadata": {},
   "outputs": [],
   "source": []
  },
  {
   "cell_type": "code",
   "execution_count": null,
   "metadata": {},
   "outputs": [],
   "source": []
  }
 ],
 "metadata": {
  "kernelspec": {
   "display_name": "Python 3",
   "language": "python",
   "name": "python3"
  },
  "language_info": {
   "codemirror_mode": {
    "name": "ipython",
    "version": 3
   },
   "file_extension": ".py",
   "mimetype": "text/x-python",
   "name": "python",
   "nbconvert_exporter": "python",
   "pygments_lexer": "ipython3",
   "version": "3.7.3"
  }
 },
 "nbformat": 4,
 "nbformat_minor": 2
}
